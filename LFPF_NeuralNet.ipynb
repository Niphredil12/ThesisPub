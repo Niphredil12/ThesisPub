{
  "cells": [
    {
      "cell_type": "code",
      "execution_count": 29,
      "metadata": {
        "id": "gJ-kOPY91u6b"
      },
      "outputs": [],
      "source": [
        "import numpy as np\n",
        "import tensorflow as tf\n",
        "import pandas as pd\n",
        "import matplotlib.pyplot as plt\n",
        "import seaborn as sns\n",
        "import string\n",
        "import eng_to_ipa as p\n",
        "import math\n",
        "import keras\n",
        "\n",
        "from sklearn.model_selection import LeaveOneOut\n",
        "from sklearn.model_selection import GridSearchCV, KFold\n",
        "from keras.models import Sequential\n",
        "from keras.layers import Dense\n",
        "from tensorflow.keras.layers import LeakyReLU\n",
        "from scikeras.wrappers import KerasRegressor\n",
        "from keras.optimizers import Adam\n",
        "from tensorflow.keras.callbacks import EarlyStopping\n",
        "from keras.layers import Dropout\n",
        "\n",
        "from sklearn.metrics import mean_absolute_error\n",
        "from sklearn.metrics import median_absolute_error\n",
        "from sklearn.metrics import mean_squared_error\n",
        "from sklearn.metrics import r2_score"
      ]
    },
    {
      "cell_type": "code",
      "source": [
        "from google.colab import drive\n",
        "drive.mount('/content/drive')"
      ],
      "metadata": {
        "colab": {
          "base_uri": "https://localhost:8080/"
        },
        "id": "7bwHc0Bh126a",
        "outputId": "e3f0f34d-e479-4266-8f44-47534d9eac88"
      },
      "execution_count": 3,
      "outputs": [
        {
          "output_type": "stream",
          "name": "stdout",
          "text": [
            "Mounted at /content/drive\n"
          ]
        }
      ]
    },
    {
      "cell_type": "markdown",
      "metadata": {
        "id": "rF4vveFI1u6g"
      },
      "source": [
        "## Load the data"
      ]
    },
    {
      "cell_type": "code",
      "execution_count": 12,
      "metadata": {
        "colab": {
          "base_uri": "https://localhost:8080/",
          "height": 206
        },
        "id": "LZhXbKa31u6i",
        "outputId": "b310199e-b083-405c-9f79-2bafd80db78e"
      },
      "outputs": [
        {
          "output_type": "execute_result",
          "data": {
            "text/plain": [
              "       name    age polarity name_type  rating.mean_age  rating.mean_gender  \\\n",
              "0  Adelaide    old      NaN      real        -0.617647           45.727273   \n",
              "1   Adelina    NaN      bad      real              NaN           47.771429   \n",
              "2  Alasdair  young      NaN      real        18.709677          -35.657143   \n",
              "3   Alastor    old      NaN    madeup        13.812500          -38.833333   \n",
              "4    Alecto    old      NaN    madeup         3.593750          -35.722222   \n",
              "\n",
              "   rating.mean_valence  gender  \n",
              "0                  NaN  female  \n",
              "1            31.621622  female  \n",
              "2                  NaN    male  \n",
              "3                  NaN    male  \n",
              "4                  NaN  female  "
            ],
            "text/html": [
              "\n",
              "  <div id=\"df-0484269e-8a06-4559-9309-0f593ee07936\">\n",
              "    <div class=\"colab-df-container\">\n",
              "      <div>\n",
              "<style scoped>\n",
              "    .dataframe tbody tr th:only-of-type {\n",
              "        vertical-align: middle;\n",
              "    }\n",
              "\n",
              "    .dataframe tbody tr th {\n",
              "        vertical-align: top;\n",
              "    }\n",
              "\n",
              "    .dataframe thead th {\n",
              "        text-align: right;\n",
              "    }\n",
              "</style>\n",
              "<table border=\"1\" class=\"dataframe\">\n",
              "  <thead>\n",
              "    <tr style=\"text-align: right;\">\n",
              "      <th></th>\n",
              "      <th>name</th>\n",
              "      <th>age</th>\n",
              "      <th>polarity</th>\n",
              "      <th>name_type</th>\n",
              "      <th>rating.mean_age</th>\n",
              "      <th>rating.mean_gender</th>\n",
              "      <th>rating.mean_valence</th>\n",
              "      <th>gender</th>\n",
              "    </tr>\n",
              "  </thead>\n",
              "  <tbody>\n",
              "    <tr>\n",
              "      <th>0</th>\n",
              "      <td>Adelaide</td>\n",
              "      <td>old</td>\n",
              "      <td>NaN</td>\n",
              "      <td>real</td>\n",
              "      <td>-0.617647</td>\n",
              "      <td>45.727273</td>\n",
              "      <td>NaN</td>\n",
              "      <td>female</td>\n",
              "    </tr>\n",
              "    <tr>\n",
              "      <th>1</th>\n",
              "      <td>Adelina</td>\n",
              "      <td>NaN</td>\n",
              "      <td>bad</td>\n",
              "      <td>real</td>\n",
              "      <td>NaN</td>\n",
              "      <td>47.771429</td>\n",
              "      <td>31.621622</td>\n",
              "      <td>female</td>\n",
              "    </tr>\n",
              "    <tr>\n",
              "      <th>2</th>\n",
              "      <td>Alasdair</td>\n",
              "      <td>young</td>\n",
              "      <td>NaN</td>\n",
              "      <td>real</td>\n",
              "      <td>18.709677</td>\n",
              "      <td>-35.657143</td>\n",
              "      <td>NaN</td>\n",
              "      <td>male</td>\n",
              "    </tr>\n",
              "    <tr>\n",
              "      <th>3</th>\n",
              "      <td>Alastor</td>\n",
              "      <td>old</td>\n",
              "      <td>NaN</td>\n",
              "      <td>madeup</td>\n",
              "      <td>13.812500</td>\n",
              "      <td>-38.833333</td>\n",
              "      <td>NaN</td>\n",
              "      <td>male</td>\n",
              "    </tr>\n",
              "    <tr>\n",
              "      <th>4</th>\n",
              "      <td>Alecto</td>\n",
              "      <td>old</td>\n",
              "      <td>NaN</td>\n",
              "      <td>madeup</td>\n",
              "      <td>3.593750</td>\n",
              "      <td>-35.722222</td>\n",
              "      <td>NaN</td>\n",
              "      <td>female</td>\n",
              "    </tr>\n",
              "  </tbody>\n",
              "</table>\n",
              "</div>\n",
              "      <button class=\"colab-df-convert\" onclick=\"convertToInteractive('df-0484269e-8a06-4559-9309-0f593ee07936')\"\n",
              "              title=\"Convert this dataframe to an interactive table.\"\n",
              "              style=\"display:none;\">\n",
              "        \n",
              "  <svg xmlns=\"http://www.w3.org/2000/svg\" height=\"24px\"viewBox=\"0 0 24 24\"\n",
              "       width=\"24px\">\n",
              "    <path d=\"M0 0h24v24H0V0z\" fill=\"none\"/>\n",
              "    <path d=\"M18.56 5.44l.94 2.06.94-2.06 2.06-.94-2.06-.94-.94-2.06-.94 2.06-2.06.94zm-11 1L8.5 8.5l.94-2.06 2.06-.94-2.06-.94L8.5 2.5l-.94 2.06-2.06.94zm10 10l.94 2.06.94-2.06 2.06-.94-2.06-.94-.94-2.06-.94 2.06-2.06.94z\"/><path d=\"M17.41 7.96l-1.37-1.37c-.4-.4-.92-.59-1.43-.59-.52 0-1.04.2-1.43.59L10.3 9.45l-7.72 7.72c-.78.78-.78 2.05 0 2.83L4 21.41c.39.39.9.59 1.41.59.51 0 1.02-.2 1.41-.59l7.78-7.78 2.81-2.81c.8-.78.8-2.07 0-2.86zM5.41 20L4 18.59l7.72-7.72 1.47 1.35L5.41 20z\"/>\n",
              "  </svg>\n",
              "      </button>\n",
              "      \n",
              "  <style>\n",
              "    .colab-df-container {\n",
              "      display:flex;\n",
              "      flex-wrap:wrap;\n",
              "      gap: 12px;\n",
              "    }\n",
              "\n",
              "    .colab-df-convert {\n",
              "      background-color: #E8F0FE;\n",
              "      border: none;\n",
              "      border-radius: 50%;\n",
              "      cursor: pointer;\n",
              "      display: none;\n",
              "      fill: #1967D2;\n",
              "      height: 32px;\n",
              "      padding: 0 0 0 0;\n",
              "      width: 32px;\n",
              "    }\n",
              "\n",
              "    .colab-df-convert:hover {\n",
              "      background-color: #E2EBFA;\n",
              "      box-shadow: 0px 1px 2px rgba(60, 64, 67, 0.3), 0px 1px 3px 1px rgba(60, 64, 67, 0.15);\n",
              "      fill: #174EA6;\n",
              "    }\n",
              "\n",
              "    [theme=dark] .colab-df-convert {\n",
              "      background-color: #3B4455;\n",
              "      fill: #D2E3FC;\n",
              "    }\n",
              "\n",
              "    [theme=dark] .colab-df-convert:hover {\n",
              "      background-color: #434B5C;\n",
              "      box-shadow: 0px 1px 3px 1px rgba(0, 0, 0, 0.15);\n",
              "      filter: drop-shadow(0px 1px 2px rgba(0, 0, 0, 0.3));\n",
              "      fill: #FFFFFF;\n",
              "    }\n",
              "  </style>\n",
              "\n",
              "      <script>\n",
              "        const buttonEl =\n",
              "          document.querySelector('#df-0484269e-8a06-4559-9309-0f593ee07936 button.colab-df-convert');\n",
              "        buttonEl.style.display =\n",
              "          google.colab.kernel.accessAllowed ? 'block' : 'none';\n",
              "\n",
              "        async function convertToInteractive(key) {\n",
              "          const element = document.querySelector('#df-0484269e-8a06-4559-9309-0f593ee07936');\n",
              "          const dataTable =\n",
              "            await google.colab.kernel.invokeFunction('convertToInteractive',\n",
              "                                                     [key], {});\n",
              "          if (!dataTable) return;\n",
              "\n",
              "          const docLinkHtml = 'Like what you see? Visit the ' +\n",
              "            '<a target=\"_blank\" href=https://colab.research.google.com/notebooks/data_table.ipynb>data table notebook</a>'\n",
              "            + ' to learn more about interactive tables.';\n",
              "          element.innerHTML = '';\n",
              "          dataTable['output_type'] = 'display_data';\n",
              "          await google.colab.output.renderOutput(dataTable, element);\n",
              "          const docLink = document.createElement('div');\n",
              "          docLink.innerHTML = docLinkHtml;\n",
              "          element.appendChild(docLink);\n",
              "        }\n",
              "      </script>\n",
              "    </div>\n",
              "  </div>\n",
              "  "
            ]
          },
          "metadata": {},
          "execution_count": 12
        }
      ],
      "source": [
        "df = pd.read_csv(\"/content/drive/MyDrive/ThesisPub/avgRatings_annotated.csv\")\n",
        "df.drop(df.columns[7:22], axis = 1, inplace = True)\n",
        "df.head()"
      ]
    },
    {
      "cell_type": "markdown",
      "metadata": {
        "id": "xpeZBF9m1u6l"
      },
      "source": [
        "## Vectorize"
      ]
    },
    {
      "cell_type": "markdown",
      "metadata": {
        "id": "Z74G3i7l1u6m"
      },
      "source": [
        "### Letter Features"
      ]
    },
    {
      "cell_type": "code",
      "execution_count": 13,
      "metadata": {
        "colab": {
          "base_uri": "https://localhost:8080/"
        },
        "id": "wFlL0B8T1u6o",
        "outputId": "53dfec9c-cfab-4f46-bfa7-fb04f068b2ad"
      },
      "outputs": [
        {
          "output_type": "stream",
          "name": "stderr",
          "text": [
            "/usr/local/lib/python3.7/dist-packages/pandas/core/indexing.py:1732: SettingWithCopyWarning: \n",
            "A value is trying to be set on a copy of a slice from a DataFrame\n",
            "\n",
            "See the caveats in the documentation: https://pandas.pydata.org/pandas-docs/stable/user_guide/indexing.html#returning-a-view-versus-a-copy\n",
            "  self._setitem_single_block(indexer, value, name)\n"
          ]
        }
      ],
      "source": [
        "def count_vector(word):\n",
        "    alphabet_string = string.ascii_lowercase\n",
        "    alphabet_list = list(alphabet_string)\n",
        "    \n",
        "    vector = []\n",
        "    for i in range(len(alphabet_list)):\n",
        "        vector.append(word.lower().count(alphabet_list[i]))\n",
        "        \n",
        "    return vector\n",
        "\n",
        "df[\"letter_vec\"] = pd.NaT\n",
        "\n",
        "vector_list = []\n",
        "for i in range(len(df[\"name\"])):\n",
        "    cv = count_vector(df.loc[i][\"name\"])\n",
        "    vector_list.append(cv)\n",
        "    \n",
        "varray = np.array(vector_list, dtype=int)\n",
        "\n",
        "for i in range(len(df[\"name\"])):\n",
        "    df[\"letter_vec\"].loc[i] = varray[i]"
      ]
    },
    {
      "cell_type": "code",
      "execution_count": 14,
      "metadata": {
        "id": "rNitY0YH1u6s"
      },
      "outputs": [],
      "source": [
        "feature_names_lf = list(string.ascii_lowercase)"
      ]
    },
    {
      "cell_type": "markdown",
      "metadata": {
        "id": "Nk5AwFrV1u6t"
      },
      "source": [
        "### Phonological Features"
      ]
    },
    {
      "cell_type": "code",
      "execution_count": 15,
      "metadata": {
        "colab": {
          "base_uri": "https://localhost:8080/"
        },
        "id": "xHfOwC2d1u6t",
        "outputId": "083adf2a-0e51-4d88-9c0e-da172aba5b91"
      },
      "outputs": [
        {
          "output_type": "stream",
          "name": "stdout",
          "text": [
            "NA value count:  53\n"
          ]
        }
      ],
      "source": [
        "ipa_temp = []\n",
        "\n",
        "for name in df[\"name\"].values:\n",
        "    nipa = p.convert(name)\n",
        "    if nipa[-1] == \"*\":\n",
        "        ipa_temp.append(\"NA\")\n",
        "    else:\n",
        "        ipa_temp.append(nipa)\n",
        "  \n",
        "print(\"NA value count: \", len([ipa_temp[i] for i in range(len(ipa_temp)) if ipa_temp[i] == \"NA\"]))\n",
        "#print(ipa_temp)\n",
        "df[\"IPA\"] = ipa_temp"
      ]
    },
    {
      "cell_type": "code",
      "execution_count": 16,
      "metadata": {
        "id": "I59FcasC1u6v"
      },
      "outputs": [],
      "source": [
        "na_names_tr = pd.read_csv(\"/content/drive/MyDrive/ThesisPub/na_names.csv\")\n",
        "\n",
        "for i in range(len(df[\"name\"])):\n",
        "    for j in range(len(na_names_tr[\"name\"])):\n",
        "        if df[\"name\"].loc[i] == na_names_tr[\"name\"][j]:\n",
        "            df[\"IPA\"].loc[i] = na_names_tr[\"IPA\"][j]"
      ]
    },
    {
      "cell_type": "code",
      "execution_count": 17,
      "metadata": {
        "id": "8cE0wTPc1u6w"
      },
      "outputs": [],
      "source": [
        "feature_dict = {\"Obstruents\": [\"t\",\"d\",\"s\",\"z\",\"ɬ\",\"ɮ\",\"θ\",\"ð\",\"c\",\"ɟ\",\"ç\",\"ʝ\"],\n",
        "                \"Fricatives\": [\"ɸ\",\"β\",\"f\",\"v\",\"θ\",\"ð\",\"s\",\"z\",\"ʃ\",\"ʒ\",\"ʂ\",\"ʐ\",\"ç\",\"ʝ\",\"x\",\"ɣ\",\"χ\",\"ʁ\",\"ħ\",\"ʕ\",\"h\",\"ɦ\"],\n",
        "                \"Lateral Fricatives\": [\"ɬ\",\"ɮ\"],\n",
        "                \"Plosives\": [\"p\",\"b\",\"t\",\"d\",\"ʈ\",\"ɖ\",\"c\",\"ɟ\",\"k\",\"g\",\"q\",\"ɢ\",\"ʔ\"],\n",
        "                \"Nasals\": [\"m\",\"ɱ\",\"n\",\"ɳ\",\"ɲ\",\"ŋ\",\"ɴ\"],\n",
        "                \"Approximants\": [\"ʋ\",\"ɹ\",\"ɻ\",\"j\",\"ɰ\"],\n",
        "                \"Lateral Approximants\": [\"l\",\"ɭ\",\"ʎ\",\"ʟ\"],\n",
        "                \"Alveolars\": [\"t\",\"d\",\"n\",\"r\",\"ɾ\",\"s\",\"z\",\"ɬ\",\"ɮ\",\"ɹ\",\"l\"],\n",
        "                \"Glottals\": [\"ʔ\",\"h\",\"ɦ\"],\n",
        "                \"Dentals\": [\"θ\",\"ð\"],\n",
        "                \"Bilabials\": [\"p\",\"b\",\"m\",\"ʙ\",\"ɸ\",\"β\"],\n",
        "                \"Sonorants\": [\"m\",\"ɱ\",\"n\",\"ɳ\",\"ɲ\",\"ŋ\",\"ɴ\",\"l\",\"ʎ\",\"r\",\"ɹ\",\"ʀ\"],\n",
        "                \"Velars\": [\"k\",\"ɡ\",\"ŋ\",\"x\",\"ɣ\",\"ɰ\",\"ʟ\"],\n",
        "                \"Voiced\": [\"b\",\"m\",\"ʙ\",\"β\",\"ɱ\",\"ⱱ\",\"v\",\"ʋ\",\"ð\",\"d\",\"n\",\"r\",\"ɾ\",\"z\",\"ɮ\",\"ɹ\",\"l\",\"ʒ\",\"ɖ\",\"ɳ\",\"ɽ\",\"ʐ\",\"ɻ\",\"ɭ\",\"ɟ\",\"ɲ\",\"ʝ\",\"j\",\"ʎ\",\"ɡ\",\"ŋ\",\"ɣ\",\"ɰ\",\"ʟ\",\"ɢ\",\"ɴ\",\"ʀ\",\"ʁ\",\"ʕ\",\"ɦ\"],\n",
        "                \"Voiceless\": [\"p\",\"ɸ\",\"f\",\"θ\",\"t\",\"s\",\"ɬ\",\"ʃ\",\"ʈ\",\"ʂ\",\"c\",\"ç\",\"k\",\"x\",\"q\",\"χ\",\"ħ\",\"ʔ\",\"h\"],\n",
        "                \"High\": [\"i\",\"y\",\"ɪ\",\"ʏ\",\"ɨ\",\"ʉ\",\"ʊ\",\"ɯ\",\"u\"],\n",
        "                \"Mid\": [\"e\",\"ø\",\"ɘ\",\"ɵ\",\"ɤ\",\"o\",\"ə\",\"ɛ\",\"œ\",\"ɜ\",\"ɞ\",\"ʌ\",\"ɔ\"],\n",
        "                \"Low\": [\"æ\",\"ɐ\",\"a\",\"ɶ\",\"ɑ\",\"ɒ\"],\n",
        "                \"Front\": [\"i\",\"y\",\"ɪ\",\"ʏ\",\"e\",\"ø\",\"ɛ\",\"œ\",\"æ\",\"a\",\"ɶ\"],\n",
        "                \"Central\": [\"ɨ\",\"ʉ\",\"ɘ\",\"ɵ\",\"ə\",\"ɜ\",\"ɞ\",\"ɐ\"],\n",
        "                \"Back\": [\"ɯ\",\"u\",\"ʊ\",\"ɤ\",\"o\",\"ʌ\",\"ɔ\",\"ɑ\",\"ɒ\"],\n",
        "                \"Rounded\": [\"y\",\"ʏ\",\"ø\",\"œ\",\"ɶ\",\"ʉ\",\"ɵ\",\"ɞ\",\"u\",\"o\",\"ɔ\",\"ɒ\"],\n",
        "                \"Unrounded\": [\"i\",\"e\",\"ɪ\",\"ɛ\",\"a\",\"ɨ\",\"ɘ\",\"ɜ\",\"ɯ\",\"ɤ\",\"ʌ\",\"ɑ\"]}"
      ]
    },
    {
      "cell_type": "code",
      "execution_count": 18,
      "metadata": {
        "id": "oQVa4NRu1u6z"
      },
      "outputs": [],
      "source": [
        "feature_names_pf = list(feature_dict.keys())"
      ]
    },
    {
      "cell_type": "code",
      "execution_count": 19,
      "metadata": {
        "id": "2sPlXimS1u61"
      },
      "outputs": [],
      "source": [
        "def get_phonological_features(word_ipa, feature_dict):\n",
        "    word_pv = np.zeros((1, len(feature_dict.keys())), dtype=int)\n",
        "    word_pvdf = pd.DataFrame(word_pv, columns=list(feature_dict.keys()))\n",
        "    for i in range(len(word_ipa)):\n",
        "        for key in list(feature_dict.keys()):\n",
        "            if word_ipa[i] in feature_dict[key]:\n",
        "                word_pvdf[key][0] += 1\n",
        "    return word_pvdf.iloc[0]\n",
        "\n",
        "df[\"phonological_vec\"] = pd.NaT\n",
        "\n",
        "vector_list = []\n",
        "for i in range(len(df[\"IPA\"])):\n",
        "    phv = np.array(get_phonological_features(df.loc[i][\"IPA\"], feature_dict), dtype=int)\n",
        "    vector_list.append(phv)\n",
        "    \n",
        "varray = np.array(vector_list, dtype=int)\n",
        "varray\n",
        "\n",
        "for i in range(len(df[\"name\"])):\n",
        "    df[\"phonological_vec\"].loc[i] = varray[i]"
      ]
    },
    {
      "cell_type": "markdown",
      "metadata": {
        "id": "8Ui-30Yk1u63"
      },
      "source": [
        "# Training"
      ]
    },
    {
      "cell_type": "code",
      "execution_count": 32,
      "metadata": {
        "id": "lhWzQjeZ1u64"
      },
      "outputs": [],
      "source": [
        "def train_NN(input_df, feature_col, attribute_col):\n",
        "    \n",
        "    #cross-validation and model instantiations\n",
        "    loo = LeaveOneOut()\n",
        "    \n",
        "    #-------- move this here for getting the input dimension\n",
        "    \n",
        "    #getting the data to be split\n",
        "    xlist = [vector for vector in input_df[feature_col]]\n",
        "    xarray = np.array(xlist, dtype=int)    \n",
        "\n",
        "    X = xarray\n",
        "    y = np.array(input_df[attribute_col],dtype=int)   \n",
        "    \n",
        "    #getting the names and their types of ease of use later on\n",
        "    names = input_df[\"name\"]\n",
        "    types = input_df[\"name_type\"]\n",
        "    \n",
        "\n",
        "    #list for the prediction of each name's rating\n",
        "    predictions = []\n",
        "    \n",
        "    #--------\n",
        "    \n",
        "    def create_model(neurons,dropout_rate,activation):\n",
        "        model = Sequential()\n",
        "        model.add(Dense(neurons, input_dim = len(xarray[0]), kernel_initializer = 'normal', activation = activation))\n",
        "        model.add(Dropout(dropout_rate))\n",
        "        model.add(Dense(1, activation = 'linear'))\n",
        "        \n",
        "        callback = EarlyStopping(monitor = 'loss', patience=3, verbose=0) \n",
        "        \n",
        "        model.compile(loss = 'mse', optimizer = \"adam\")\n",
        "        return model\n",
        "    \n",
        "    #set random seed\n",
        "    seed = 7\n",
        "    tf.random.set_seed(seed)\n",
        "\n",
        "    # Create the model\n",
        "    model = KerasRegressor(model= create_model, verbose = 0, batch_size = 40, epochs = 10)\n",
        "\n",
        "    # Define the grid search parameters\n",
        "    lrelu = keras.layers.LeakyReLU()\n",
        "\n",
        "    neurons = [8,16,len(xarray[0])]\n",
        "    dropout_rate = [0.2,0.5]\n",
        "    activation = [lrelu, 'tanh', 'sigmoid']\n",
        "\n",
        "    # Make a dictionary of the grid search parameters\n",
        "\n",
        "    param_grids = dict(model__neurons=neurons, model__dropout_rate=dropout_rate, model__activation=activation)\n",
        "\n",
        "    # Build and fit the GridSearchCV\n",
        "\n",
        "    grid = GridSearchCV(estimator = model,param_grid = param_grids,cv = KFold(),verbose = 0)  \n",
        "\n",
        "    #--------\n",
        "    \n",
        "    #do the cross validation split (test is going to be only one name and train is going to be every other name but that)\n",
        "    for train_index, test_index in loo.split(X):\n",
        "        x_train = X[train_index]\n",
        "        x_test = X[test_index]\n",
        "        y_train = y[train_index]\n",
        "        y_test = y[test_index]\n",
        "    \n",
        "        #list with names in the test set and their type, again for easier use later\n",
        "        test_names = list(names.iloc[test_index])\n",
        "        test_name_types = list(types.iloc[test_index])\n",
        "    \n",
        "        #fit the model on this fold's training set\n",
        "        model = grid.fit(x_train,y_train)\n",
        "        #predict the score for the test set (name)\n",
        "        prediction = grid.predict(np.array(x_test))\n",
        "\n",
        "        #append the name, its type, its feature representation, its actual rating, \n",
        "        #and its predicted rating and prediction probability into the predictions list\n",
        "        for i in range(len(x_test)):\n",
        "            predictions.append((test_names[i],test_name_types[i],x_test[i],y_test[i],prediction[i]))\n",
        "            \n",
        "        \n",
        "    return predictions"
      ]
    },
    {
      "cell_type": "code",
      "execution_count": 21,
      "metadata": {
        "id": "B5lWwUt21u65"
      },
      "outputs": [],
      "source": [
        "def metrics_and_eval(predictions):\n",
        "    #predictions: the prediction list we get from the training functions with the names, their name types, their feature representation\n",
        "    #             their actual values, and their predicted values \n",
        "    \n",
        "    r2 = r2_score([predictions[i][3] for i in range(len(predictions))], [predictions[i][4] for i in range(len(predictions))])\n",
        "    mae = mean_absolute_error([predictions[i][3] for i in range(len(predictions))], [predictions[i][4] for i in range(len(predictions))])\n",
        "    mse = mean_squared_error([predictions[i][3] for i in range(len(predictions))], [predictions[i][4] for i in range(len(predictions))])\n",
        "    med_ae = median_absolute_error([predictions[i][3] for i in range(len(predictions))], [predictions[i][4] for i in range(len(predictions))])\n",
        "    \n",
        "    #-------------------------------------------------------------------------------------\n",
        "    \n",
        "    #split the absolute errors according to name type\n",
        "    aes={\"real\":[], \"talking\":[], \"madeup\":[]}\n",
        "    for i in range(len(predictions)):\n",
        "        if predictions[i][1] == \"real\":\n",
        "            aes[\"real\"].append(abs(predictions[i][3] - predictions[i][4]))\n",
        "        if predictions[i][1] == \"talking\":\n",
        "            aes[\"talking\"].append(abs(predictions[i][3] - predictions[i][4]))\n",
        "        if predictions[i][1] == \"madeup\":\n",
        "            aes[\"madeup\"].append(abs(predictions[i][3] - predictions[i][4]))\n",
        "            \n",
        "    #take the average of the of the absolute error list for each name type\n",
        "    avg_mae_per_nametype = {\"real\": np.mean(aes[\"real\"]),\n",
        "                            \"talking\": np.mean(aes[\"talking\"]) ,\n",
        "                            \"madeup\": np.mean(aes[\"madeup\"])}\n",
        "        \n",
        "    \n",
        "    return mae, avg_mae_per_nametype, r2, aes, mse, med_ae"
      ]
    },
    {
      "cell_type": "markdown",
      "metadata": {
        "id": "1fUMhLpa1u66"
      },
      "source": [
        "## Polarity"
      ]
    },
    {
      "cell_type": "code",
      "execution_count": 22,
      "metadata": {
        "id": "t5b__iy41u67"
      },
      "outputs": [],
      "source": [
        "pol_df = df.loc[df['polarity'].notnull(), [\"name\",  \"name_type\", \"polarity\", \"rating.mean_valence\", \"letter_vec\", \"phonological_vec\"]]\n",
        "pol_df.reset_index(drop=True, inplace=True)"
      ]
    },
    {
      "cell_type": "markdown",
      "metadata": {
        "id": "naVVq2BF1u68"
      },
      "source": [
        "### - - - -"
      ]
    },
    {
      "cell_type": "code",
      "execution_count": 33,
      "metadata": {
        "id": "OJ4560p11u68"
      },
      "outputs": [],
      "source": [
        "NNLF_pol = train_NN(pol_df, \"letter_vec\", \"rating.mean_valence\")"
      ]
    },
    {
      "cell_type": "code",
      "execution_count": 34,
      "metadata": {
        "id": "8vgS524q1u69"
      },
      "outputs": [],
      "source": [
        "NNLFPOL_results = metrics_and_eval(NNLF_pol)"
      ]
    },
    {
      "cell_type": "code",
      "execution_count": 35,
      "metadata": {
        "colab": {
          "base_uri": "https://localhost:8080/"
        },
        "id": "3RYc712M1u6-",
        "outputId": "0f5760b8-92c3-4cf1-83ba-65c56f1b2dc1"
      },
      "outputs": [
        {
          "output_type": "stream",
          "name": "stdout",
          "text": [
            "Avg MAE: \n",
            "19.323557276190037\n",
            "Avg MAE per name type: \n",
            "{'real': 21.053871228173374, 'talking': 23.78417680254206, 'madeup': 13.940136860246243}\n",
            "R2: \n",
            "-0.3111387528263576\n",
            "Avg MSE: \n",
            "484.8663123131543\n",
            "Median AE: \n",
            "21.40657326579094\n"
          ]
        }
      ],
      "source": [
        "print(\"Avg MAE: \", NNLFPOL_results[0], \"Avg MAE per name type: \", NNLFPOL_results[1], \"R2: \", NNLFPOL_results[2], \n",
        "      \"Avg MSE: \", NNLFPOL_results[4], \"Median AE: \", NNLFPOL_results[5], sep=\"\\n\")"
      ]
    },
    {
      "cell_type": "code",
      "execution_count": 36,
      "metadata": {
        "id": "a9cW8Rco1u6-"
      },
      "outputs": [],
      "source": [
        "NNPF_pol = train_NN(pol_df, \"phonological_vec\", \"rating.mean_valence\")"
      ]
    },
    {
      "cell_type": "code",
      "execution_count": 38,
      "metadata": {
        "id": "m2eFeczS1u6_"
      },
      "outputs": [],
      "source": [
        "NNPFPOL_results = metrics_and_eval(NNPF_pol)"
      ]
    },
    {
      "cell_type": "code",
      "execution_count": 39,
      "metadata": {
        "colab": {
          "base_uri": "https://localhost:8080/"
        },
        "id": "9CguzWrP1u6_",
        "outputId": "842fb941-871e-4edc-e0f0-cc91eaa7c0db"
      },
      "outputs": [
        {
          "output_type": "stream",
          "name": "stdout",
          "text": [
            "Avg MAE: \n",
            "19.000009906522575\n",
            "Avg MAE per name type: \n",
            "{'real': 20.787940785940737, 'talking': 23.12682466991246, 'madeup': 13.856752825819928}\n",
            "R2: \n",
            "-0.2605435490810901\n",
            "Avg MSE: \n",
            "466.1559280705878\n",
            "Median AE: \n",
            "20.81490957736969\n"
          ]
        }
      ],
      "source": [
        "print(\"Avg MAE: \", NNPFPOL_results[0], \"Avg MAE per name type: \", NNPFPOL_results[1], \"R2: \", NNPFPOL_results[2], \n",
        "      \"Avg MSE: \", NNPFPOL_results[4], \"Median AE: \", NNPFPOL_results[5], sep=\"\\n\")"
      ]
    },
    {
      "cell_type": "code",
      "execution_count": 40,
      "metadata": {
        "id": "FllsFr071u7A"
      },
      "outputs": [],
      "source": [
        "NNLFPOL_pred = pd.DataFrame(NNLF_pol, columns=[\"Name\", \"Name Type\", \"Feature Rep\", \"Rating\", \"Prediction\"])\n",
        "NNLFPOL_pred[\"Features\"] = [\"Letter\" for i in range(len(NNLF_pol))]\n",
        "\n",
        "NNPFPOL_pred = pd.DataFrame(NNPF_pol, columns=[\"Name\", \"Name Type\", \"Feature Rep\", \"Rating\", \"Prediction\"])\n",
        "NNPFPOL_pred[\"Features\"] = [\"Phonological\" for i in range(len(NNPF_pol))]\n",
        "\n",
        "NNPOL_pred = NNLFPOL_pred.append(NNPFPOL_pred)"
      ]
    },
    {
      "cell_type": "code",
      "execution_count": 41,
      "metadata": {
        "id": "uRLgH2-e1u7A"
      },
      "outputs": [],
      "source": [
        "NNPOL_pred.to_csv(\"NNPOLpred.csv\")"
      ]
    },
    {
      "cell_type": "code",
      "execution_count": 42,
      "metadata": {
        "colab": {
          "base_uri": "https://localhost:8080/",
          "height": 312
        },
        "id": "mi4tY3Y31u7A",
        "outputId": "adf70572-24ef-432f-9112-9c2a72573ea8"
      },
      "outputs": [
        {
          "output_type": "execute_result",
          "data": {
            "text/plain": [
              "[Text(0.5, 1.0, 'Polarity')]"
            ]
          },
          "metadata": {},
          "execution_count": 42
        },
        {
          "output_type": "display_data",
          "data": {
            "text/plain": [
              "<Figure size 432x288 with 1 Axes>"
            ],
            "image/png": "[encoded data removed]"
          },
          "metadata": {
            "needs_background": "light"
          }
        }
      ],
      "source": [
        "sns.scatterplot(x=NNPOL_pred[\"Rating\"], y=NNPOL_pred[\"Prediction\"], hue=NNPOL_pred[\"Features\"]).set(title='Polarity')"
      ]
    },
    {
      "cell_type": "markdown",
      "metadata": {
        "id": "jj-6HqeR1u7B"
      },
      "source": [
        "### Gender"
      ]
    },
    {
      "cell_type": "code",
      "execution_count": 43,
      "metadata": {
        "id": "9xgo-Ad91u7B"
      },
      "outputs": [],
      "source": [
        "gen_df = df.loc[df['gender'].notnull(), [\"name\", \"name_type\",\"gender\", \"rating.mean_gender\", \"letter_vec\", \"phonological_vec\"]]\n",
        "gen_df.reset_index(drop=True, inplace=True)"
      ]
    },
    {
      "cell_type": "markdown",
      "metadata": {
        "id": "abQPFQ1O1u7B"
      },
      "source": [
        "### - - - -"
      ]
    },
    {
      "cell_type": "code",
      "execution_count": 44,
      "metadata": {
        "id": "-oI1YnN41u7B"
      },
      "outputs": [],
      "source": [
        "NNLF_gen = train_NN(gen_df, \"letter_vec\", \"rating.mean_gender\")"
      ]
    },
    {
      "cell_type": "code",
      "execution_count": 45,
      "metadata": {
        "id": "IQdE4orF1u7C"
      },
      "outputs": [],
      "source": [
        "NNLFGEN_results = metrics_and_eval(NNLF_gen)"
      ]
    },
    {
      "cell_type": "code",
      "execution_count": 46,
      "metadata": {
        "colab": {
          "base_uri": "https://localhost:8080/"
        },
        "id": "Up2u4gb31u7C",
        "outputId": "136491fe-9630-4c94-dbdd-dbf9173a541c"
      },
      "outputs": [
        {
          "output_type": "stream",
          "name": "stdout",
          "text": [
            "Avg MAE: \n",
            "33.48564174342328\n",
            "Avg MAE per name type: \n",
            "{'real': 42.69224247039328, 'talking': 29.17734725561115, 'madeup': 28.966027103294618}\n",
            "R2: \n",
            "0.0006144942557603228\n",
            "Avg MSE: \n",
            "1326.4885207979746\n",
            "Median AE: \n",
            "38.55884897708893\n"
          ]
        }
      ],
      "source": [
        "print(\"Avg MAE: \", NNLFGEN_results[0], \"Avg MAE per name type: \", NNLFGEN_results[1], \"R2: \", NNLFGEN_results[2], \n",
        "      \"Avg MSE: \", NNLFGEN_results[4], \"Median AE: \", NNLFGEN_results[5], sep=\"\\n\")"
      ]
    },
    {
      "cell_type": "code",
      "source": [
        "NNLFGEN_pred = pd.DataFrame(NNLF_gen, columns=[\"Name\", \"Name Type\", \"Feature Rep\", \"Rating\", \"Prediction\"])\n",
        "NNLFGEN_pred[\"Features\"] = [\"Letter\" for i in range(len(NNLF_gen))]"
      ],
      "metadata": {
        "id": "JhVNRUiMShfB"
      },
      "execution_count": 47,
      "outputs": []
    },
    {
      "cell_type": "code",
      "source": [
        "NNLFGEN_pred.to_csv(\"NNLFGEN_pred.csv\")"
      ],
      "metadata": {
        "id": "CJXWrlfXSl6_"
      },
      "execution_count": 48,
      "outputs": []
    },
    {
      "cell_type": "code",
      "execution_count": 49,
      "metadata": {
        "id": "pG1xC7M-1u7D"
      },
      "outputs": [],
      "source": [
        "NNPF_gen = train_NN(gen_df, \"phonological_vec\", \"rating.mean_gender\")"
      ]
    },
    {
      "cell_type": "code",
      "execution_count": 50,
      "metadata": {
        "id": "_l2l91tv1u7D"
      },
      "outputs": [],
      "source": [
        "NNPFGEN_results = metrics_and_eval(NNPF_gen)"
      ]
    },
    {
      "cell_type": "code",
      "execution_count": 51,
      "metadata": {
        "colab": {
          "base_uri": "https://localhost:8080/"
        },
        "id": "3gOdpmIz1u7D",
        "outputId": "dfdace6a-554f-4ae1-d20e-94c9c238a936"
      },
      "outputs": [
        {
          "output_type": "stream",
          "name": "stdout",
          "text": [
            "Avg MAE: \n",
            "33.51327860692786\n",
            "Avg MAE per name type: \n",
            "{'real': 42.73728009338234, 'talking': 29.186874515857912, 'madeup': 28.99525466260966}\n",
            "R2: \n",
            "-0.0011788723586656502\n",
            "Avg MSE: \n",
            "1328.868863732653\n",
            "Median AE: \n",
            "38.618876516819\n"
          ]
        }
      ],
      "source": [
        "print(\"Avg MAE: \", NNPFGEN_results[0], \"Avg MAE per name type: \", NNPFGEN_results[1], \"R2: \", NNPFGEN_results[2], \n",
        "      \"Avg MSE: \", NNPFGEN_results[4], \"Median AE: \", NNPFGEN_results[5], sep=\"\\n\")"
      ]
    },
    {
      "cell_type": "code",
      "execution_count": 52,
      "metadata": {
        "id": "OAWP3UL41u7E"
      },
      "outputs": [],
      "source": [
        "NNPFGEN_pred = pd.DataFrame(NNPF_gen, columns=[\"Name\", \"Name Type\", \"Feature Rep\", \"Rating\", \"Prediction\"])\n",
        "NNPFGEN_pred[\"Features\"] = [\"Phonological\" for i in range(len(NNPF_gen))]"
      ]
    },
    {
      "cell_type": "code",
      "source": [
        "NNPFGEN_pred.to_csv(\"NNPFGEN_pred.csv\")"
      ],
      "metadata": {
        "id": "2UzuJPWhSyry"
      },
      "execution_count": 53,
      "outputs": []
    },
    {
      "cell_type": "code",
      "source": [
        "NNGEN_pred = NNLFGEN_pred.append(NNPFGEN_pred)"
      ],
      "metadata": {
        "id": "pbzAcc84SvGx"
      },
      "execution_count": 54,
      "outputs": []
    },
    {
      "cell_type": "code",
      "execution_count": 55,
      "metadata": {
        "id": "8f9dQaYR1u7E"
      },
      "outputs": [],
      "source": [
        "NNGEN_pred.to_csv(\"NNGEN_pred.csv\")"
      ]
    },
    {
      "cell_type": "code",
      "execution_count": 56,
      "metadata": {
        "colab": {
          "base_uri": "https://localhost:8080/",
          "height": 312
        },
        "id": "i_uEZgRQ1u7F",
        "outputId": "52f94fea-c3a1-4eb3-db0f-777365af6738"
      },
      "outputs": [
        {
          "output_type": "execute_result",
          "data": {
            "text/plain": [
              "[Text(0.5, 1.0, 'Gender')]"
            ]
          },
          "metadata": {},
          "execution_count": 56
        },
        {
          "output_type": "display_data",
          "data": {
            "text/plain": [
              "<Figure size 432x288 with 1 Axes>"
            ],
            "image/png": "[encoded data removed]"
          },
          "metadata": {
            "needs_background": "light"
          }
        }
      ],
      "source": [
        "sns.scatterplot(x=NNGEN_pred[\"Rating\"], y=NNGEN_pred[\"Prediction\"], hue=NNGEN_pred[\"Features\"]).set(title='Gender')"
      ]
    },
    {
      "cell_type": "markdown",
      "metadata": {
        "id": "uPOZJurV1u7G"
      },
      "source": [
        "### Age"
      ]
    },
    {
      "cell_type": "code",
      "execution_count": 57,
      "metadata": {
        "id": "DRjjLFRz1u7G"
      },
      "outputs": [],
      "source": [
        "age_df = df.loc[df['age'].notnull(), [\"name\", \"name_type\", \"age\", \"rating.mean_age\", \"letter_vec\", \"phonological_vec\"]]\n",
        "age_df.reset_index(drop=True, inplace=True)"
      ]
    },
    {
      "cell_type": "markdown",
      "metadata": {
        "id": "nPRM87kk1u7G"
      },
      "source": [
        "### - - - -"
      ]
    },
    {
      "cell_type": "code",
      "execution_count": 58,
      "metadata": {
        "id": "MuDmsZwx1u7H"
      },
      "outputs": [],
      "source": [
        "NNLF_age = train_NN(age_df, \"letter_vec\", \"rating.mean_age\")"
      ]
    },
    {
      "cell_type": "code",
      "execution_count": 59,
      "metadata": {
        "id": "LrIrsAvX1u7I"
      },
      "outputs": [],
      "source": [
        "NNLFAGE_results = metrics_and_eval(NNLF_age)"
      ]
    },
    {
      "cell_type": "code",
      "execution_count": 60,
      "metadata": {
        "colab": {
          "base_uri": "https://localhost:8080/"
        },
        "id": "G9Vmxa_l1u7I",
        "outputId": "31de1ee2-ae08-42d6-9aa2-cebebc655e5c"
      },
      "outputs": [
        {
          "output_type": "stream",
          "name": "stdout",
          "text": [
            "Avg MAE: \n",
            "16.913140441517996\n",
            "Avg MAE per name type: \n",
            "{'real': 18.321958989836276, 'talking': 16.815356642780145, 'madeup': 15.535677120873803}\n",
            "R2: \n",
            "-0.013448534296355508\n",
            "Avg MSE: \n",
            "401.48678659634396\n",
            "Median AE: \n",
            "15.762773513793945\n"
          ]
        }
      ],
      "source": [
        "print(\"Avg MAE: \", NNLFAGE_results[0], \"Avg MAE per name type: \", NNLFAGE_results[1], \"R2: \", NNLFAGE_results[2], \n",
        "      \"Avg MSE: \", NNLFAGE_results[4], \"Median AE: \", NNLFAGE_results[5], sep=\"\\n\")"
      ]
    },
    {
      "cell_type": "code",
      "source": [
        "NNLFAGE_pred = pd.DataFrame(NNLF_age, columns=[\"Name\", \"Name Type\", \"Feature Rep\", \"Rating\", \"Prediction\"])\n",
        "NNLFAGE_pred[\"Features\"] = [\"Letter\" for i in range(len(NNLF_age))]"
      ],
      "metadata": {
        "id": "5w7WYKm_TUf7"
      },
      "execution_count": 61,
      "outputs": []
    },
    {
      "cell_type": "code",
      "source": [
        "NNLFAGE_pred.to_csv(\"NNLFAGE_pred.csv\")"
      ],
      "metadata": {
        "id": "vOXShQdbTWma"
      },
      "execution_count": 62,
      "outputs": []
    },
    {
      "cell_type": "code",
      "execution_count": 63,
      "metadata": {
        "id": "s46xE7-x1u7J"
      },
      "outputs": [],
      "source": [
        "NNPF_age = train_NN(age_df, \"phonological_vec\", \"rating.mean_age\")"
      ]
    },
    {
      "cell_type": "code",
      "execution_count": 64,
      "metadata": {
        "id": "iF-01iz41u7J"
      },
      "outputs": [],
      "source": [
        "NNPFAGE_results = metrics_and_eval(NNPF_age)"
      ]
    },
    {
      "cell_type": "code",
      "execution_count": 65,
      "metadata": {
        "colab": {
          "base_uri": "https://localhost:8080/"
        },
        "id": "R_trvyFl1u7K",
        "outputId": "cdc9b737-5ff7-4995-aa78-7d094a882a95"
      },
      "outputs": [
        {
          "output_type": "stream",
          "name": "stdout",
          "text": [
            "Avg MAE: \n",
            "16.7899209547694\n",
            "Avg MAE per name type: \n",
            "{'real': 18.110366316325962, 'talking': 16.90259739374969, 'madeup': 15.278406521599544}\n",
            "R2: \n",
            "0.0030455856210636068\n",
            "Avg MSE: \n",
            "394.9524920769117\n",
            "Median AE: \n",
            "15.916839227080345\n"
          ]
        }
      ],
      "source": [
        "print(\"Avg MAE: \", NNPFAGE_results[0], \"Avg MAE per name type: \", NNPFAGE_results[1], \"R2: \", NNPFAGE_results[2], \n",
        "      \"Avg MSE: \", NNPFAGE_results[4], \"Median AE: \", NNPFAGE_results[5], sep=\"\\n\")"
      ]
    },
    {
      "cell_type": "code",
      "execution_count": 66,
      "metadata": {
        "id": "9A1RWLj-1u7K"
      },
      "outputs": [],
      "source": [
        "NNPFAGE_pred = pd.DataFrame(NNPF_age, columns=[\"Name\", \"Name Type\", \"Feature Rep\", \"Rating\", \"Prediction\"])\n",
        "NNPFAGE_pred[\"Features\"] = [\"Phonological\" for i in range(len(NNPF_age))]"
      ]
    },
    {
      "cell_type": "code",
      "source": [
        "NNPFAGE_pred.to_csv(\"NNPFAGE_pred.csv\")"
      ],
      "metadata": {
        "id": "BwnDeRKfTfFu"
      },
      "execution_count": 67,
      "outputs": []
    },
    {
      "cell_type": "code",
      "source": [
        "NNAGE_pred = NNLFAGE_pred.append(NNPFAGE_pred)"
      ],
      "metadata": {
        "id": "P6gsQ0dnTfRc"
      },
      "execution_count": 68,
      "outputs": []
    },
    {
      "cell_type": "code",
      "execution_count": 69,
      "metadata": {
        "id": "iClunY9p1u7M"
      },
      "outputs": [],
      "source": [
        "NNAGE_pred.to_csv(\"NNAGE_pred.csv\")"
      ]
    },
    {
      "cell_type": "code",
      "execution_count": 70,
      "metadata": {
        "colab": {
          "base_uri": "https://localhost:8080/",
          "height": 312
        },
        "id": "uta2QMvu1u7M",
        "outputId": "1104fcdd-c06e-4c49-8c18-f282fd81c482"
      },
      "outputs": [
        {
          "output_type": "execute_result",
          "data": {
            "text/plain": [
              "[Text(0.5, 1.0, 'Age')]"
            ]
          },
          "metadata": {},
          "execution_count": 70
        },
        {
          "output_type": "display_data",
          "data": {
            "text/plain": [
              "<Figure size 432x288 with 1 Axes>"
            ],
            "image/png": "[encoded data removed]"
          },
          "metadata": {
            "needs_background": "light"
          }
        }
      ],
      "source": [
        "sns.scatterplot(x=NNAGE_pred[\"Rating\"], y=NNAGE_pred[\"Prediction\"], hue=NNAGE_pred[\"Features\"]).set(title='Age')"
      ]
    }
  ],
  "metadata": {
    "kernelspec": {
      "display_name": "Python 3 (ipykernel)",
      "language": "python",
      "name": "python3"
    },
    "language_info": {
      "codemirror_mode": {
        "name": "ipython",
        "version": 3
      },
      "file_extension": ".py",
      "mimetype": "text/x-python",
      "name": "python",
      "nbconvert_exporter": "python",
      "pygments_lexer": "ipython3",
      "version": "3.9.12"
    },
    "colab": {
      "provenance": []
    }
  },
  "nbformat": 4,
  "nbformat_minor": 0
}